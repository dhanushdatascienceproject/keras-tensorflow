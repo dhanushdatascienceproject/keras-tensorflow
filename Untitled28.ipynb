{
  "nbformat": 4,
  "nbformat_minor": 0,
  "metadata": {
    "colab": {
      "provenance": []
    },
    "kernelspec": {
      "name": "python3",
      "display_name": "Python 3"
    },
    "language_info": {
      "name": "python"
    }
  },
  "cells": [
    {
      "cell_type": "code",
      "execution_count": 28,
      "metadata": {
        "id": "pGtpJ3LYSfxX"
      },
      "outputs": [],
      "source": [
        "import tensorflow as tf\n",
        "from tensorflow import keras\n",
        "import numpy as np\n",
        "import matplotlib.pyplot as plt\n",
        "\n",
        "fashion_mnist = keras.datasets.fashion_mnist\n",
        "(x_train, y_train), (x_test, y_test) = fashion_mnist.load_data()"
      ]
    },
    {
      "cell_type": "code",
      "source": [
        "len(x_train)"
      ],
      "metadata": {
        "colab": {
          "base_uri": "https://localhost:8080/"
        },
        "id": "2WmRmaaQTuMf",
        "outputId": "23aecfe1-0fd8-4644-d06e-3671ba42aede"
      },
      "execution_count": 29,
      "outputs": [
        {
          "output_type": "execute_result",
          "data": {
            "text/plain": [
              "60000"
            ]
          },
          "metadata": {},
          "execution_count": 29
        }
      ]
    },
    {
      "cell_type": "code",
      "source": [
        "y_train[0]"
      ],
      "metadata": {
        "colab": {
          "base_uri": "https://localhost:8080/"
        },
        "id": "zmkj8s3qTxIk",
        "outputId": "f140eb22-0f50-4345-a478-7f8dbb049595"
      },
      "execution_count": 30,
      "outputs": [
        {
          "output_type": "execute_result",
          "data": {
            "text/plain": [
              "9"
            ]
          },
          "metadata": {},
          "execution_count": 30
        }
      ]
    },
    {
      "cell_type": "code",
      "source": [
        "x_test.shape"
      ],
      "metadata": {
        "colab": {
          "base_uri": "https://localhost:8080/"
        },
        "id": "2Si8mWQGWQ6t",
        "outputId": "abaaec1d-ca4b-4299-b363-4e2a985c420c"
      },
      "execution_count": 31,
      "outputs": [
        {
          "output_type": "execute_result",
          "data": {
            "text/plain": [
              "(10000, 28, 28)"
            ]
          },
          "metadata": {},
          "execution_count": 31
        }
      ]
    },
    {
      "cell_type": "code",
      "source": [
        "x_train=x_train /235\n",
        "x_test=x_test /255"
      ],
      "metadata": {
        "id": "6NlsNFsmYmvB"
      },
      "execution_count": 32,
      "outputs": []
    },
    {
      "cell_type": "code",
      "source": [
        "x_train[0]"
      ],
      "metadata": {
        "colab": {
          "base_uri": "https://localhost:8080/"
        },
        "id": "HY2qVw1JT5CC",
        "outputId": "948832e3-1a48-4840-8fb2-6d8c8b96bca2"
      },
      "execution_count": 33,
      "outputs": [
        {
          "output_type": "execute_result",
          "data": {
            "text/plain": [
              "array([[0.        , 0.        , 0.        , 0.        , 0.        ,\n",
              "        0.        , 0.        , 0.        , 0.        , 0.        ,\n",
              "        0.        , 0.        , 0.        , 0.        , 0.        ,\n",
              "        0.        , 0.        , 0.        , 0.        , 0.        ,\n",
              "        0.        , 0.        , 0.        , 0.        , 0.        ,\n",
              "        0.        , 0.        , 0.        ],\n",
              "       [0.        , 0.        , 0.        , 0.        , 0.        ,\n",
              "        0.        , 0.        , 0.        , 0.        , 0.        ,\n",
              "        0.        , 0.        , 0.        , 0.        , 0.        ,\n",
              "        0.        , 0.        , 0.        , 0.        , 0.        ,\n",
              "        0.        , 0.        , 0.        , 0.        , 0.        ,\n",
              "        0.        , 0.        , 0.        ],\n",
              "       [0.        , 0.        , 0.        , 0.        , 0.        ,\n",
              "        0.        , 0.        , 0.        , 0.        , 0.        ,\n",
              "        0.        , 0.        , 0.        , 0.        , 0.        ,\n",
              "        0.        , 0.        , 0.        , 0.        , 0.        ,\n",
              "        0.        , 0.        , 0.        , 0.        , 0.        ,\n",
              "        0.        , 0.        , 0.        ],\n",
              "       [0.        , 0.        , 0.        , 0.        , 0.        ,\n",
              "        0.        , 0.        , 0.        , 0.        , 0.        ,\n",
              "        0.        , 0.        , 0.00425532, 0.        , 0.        ,\n",
              "        0.05531915, 0.3106383 , 0.        , 0.        , 0.00425532,\n",
              "        0.01702128, 0.        , 0.        , 0.        , 0.        ,\n",
              "        0.00425532, 0.00425532, 0.        ],\n",
              "       [0.        , 0.        , 0.        , 0.        , 0.        ,\n",
              "        0.        , 0.        , 0.        , 0.        , 0.        ,\n",
              "        0.        , 0.        , 0.01276596, 0.        , 0.15319149,\n",
              "        0.5787234 , 0.54042553, 0.26382979, 0.22978723, 0.        ,\n",
              "        0.        , 0.        , 0.00425532, 0.01276596, 0.01702128,\n",
              "        0.        , 0.        , 0.01276596],\n",
              "       [0.        , 0.        , 0.        , 0.        , 0.        ,\n",
              "        0.        , 0.        , 0.        , 0.        , 0.        ,\n",
              "        0.        , 0.        , 0.02553191, 0.        , 0.43404255,\n",
              "        0.86808511, 0.74893617, 0.57021277, 0.61276596, 0.52340426,\n",
              "        0.09787234, 0.        , 0.        , 0.        , 0.        ,\n",
              "        0.05106383, 0.04255319, 0.        ],\n",
              "       [0.        , 0.        , 0.        , 0.        , 0.        ,\n",
              "        0.        , 0.        , 0.        , 0.        , 0.        ,\n",
              "        0.        , 0.        , 0.        , 0.        , 0.65957447,\n",
              "        1.00425532, 0.88085106, 0.75744681, 0.45531915, 0.66382979,\n",
              "        0.68510638, 0.46382979, 0.27234043, 0.09787234, 0.32765957,\n",
              "        0.55319149, 0.30638298, 0.06382979],\n",
              "       [0.        , 0.        , 0.        , 0.        , 0.        ,\n",
              "        0.        , 0.        , 0.        , 0.        , 0.        ,\n",
              "        0.        , 0.00425532, 0.        , 0.29361702, 0.88085106,\n",
              "        0.94893617, 0.92765957, 0.91914894, 0.91914894, 0.69361702,\n",
              "        0.54042553, 0.51489362, 0.51914894, 0.6212766 , 0.6       ,\n",
              "        0.37446809, 0.73191489, 0.28085106],\n",
              "       [0.        , 0.        , 0.        , 0.        , 0.        ,\n",
              "        0.        , 0.        , 0.        , 0.        , 0.00425532,\n",
              "        0.00425532, 0.00425532, 0.        , 0.85106383, 0.98723404,\n",
              "        0.98723404, 0.99148936, 0.97446809, 0.94893617, 0.94893617,\n",
              "        0.91489362, 0.90638298, 0.69787234, 0.54042553, 0.52340426,\n",
              "        0.83404255, 0.97446809, 0.        ],\n",
              "       [0.        , 0.        , 0.        , 0.        , 0.        ,\n",
              "        0.        , 0.        , 0.        , 0.        , 0.        ,\n",
              "        0.        , 0.        , 0.        , 0.7787234 , 0.95744681,\n",
              "        0.91914894, 0.94893617, 0.97021277, 1.        , 0.96595745,\n",
              "        0.95319149, 0.94468085, 0.95319149, 0.94042553, 0.94893617,\n",
              "        1.04255319, 0.73617021, 0.        ],\n",
              "       [0.        , 0.        , 0.        , 0.        , 0.        ,\n",
              "        0.        , 0.        , 0.        , 0.        , 0.        ,\n",
              "        0.        , 0.        , 0.        , 0.8212766 , 0.97021277,\n",
              "        0.92765957, 0.90638298, 0.84255319, 0.76595745, 0.90212766,\n",
              "        0.89361702, 0.89787234, 0.90638298, 0.94893617, 0.93617021,\n",
              "        1.03404255, 0.85957447, 0.        ],\n",
              "       [0.        , 0.        , 0.        , 0.        , 0.        ,\n",
              "        0.        , 0.        , 0.        , 0.        , 0.00425532,\n",
              "        0.01276596, 0.        , 0.05106383, 0.93191489, 0.93617021,\n",
              "        0.90212766, 0.92765957, 0.81702128, 0.71914894, 0.96595745,\n",
              "        0.88510638, 0.92765957, 0.95319149, 0.90212766, 0.96170213,\n",
              "        0.83829787, 0.8893617 , 0.2212766 ],\n",
              "       [0.        , 0.        , 0.        , 0.        , 0.        ,\n",
              "        0.        , 0.        , 0.        , 0.        , 0.        ,\n",
              "        0.02553191, 0.        , 0.4212766 , 1.03829787, 0.94468085,\n",
              "        0.93617021, 0.92765957, 0.86382979, 0.84255319, 0.94042553,\n",
              "        0.91489362, 0.90638298, 0.94468085, 0.93617021, 1.04255319,\n",
              "        0.50638298, 0.7106383 , 0.23829787],\n",
              "       [0.        , 0.        , 0.        , 0.        , 0.        ,\n",
              "        0.        , 0.        , 0.        , 0.        , 0.01702128,\n",
              "        0.        , 0.        , 0.23404255, 1.00425532, 0.97021277,\n",
              "        0.9787234 , 0.97021277, 1.0212766 , 0.98723404, 0.90638298,\n",
              "        0.92765957, 0.94893617, 0.99574468, 0.92340426, 0.92340426,\n",
              "        0.8893617 , 0.39148936, 0.        ],\n",
              "       [0.        , 0.        , 0.00425532, 0.01702128, 0.02553191,\n",
              "        0.02978723, 0.00851064, 0.        , 0.        , 0.        ,\n",
              "        0.        , 0.        , 1.00851064, 0.96170213, 0.92340426,\n",
              "        0.94893617, 0.94468085, 0.93191489, 0.94468085, 0.94042553,\n",
              "        0.91914894, 0.94893617, 0.97446809, 0.91489362, 0.92765957,\n",
              "        1.08510638, 0.32765957, 0.        ],\n",
              "       [0.        , 0.01276596, 0.        , 0.        , 0.        ,\n",
              "        0.        , 0.        , 0.        , 0.        , 0.26382979,\n",
              "        0.61702128, 0.86808511, 0.97021277, 0.88085106, 0.90638298,\n",
              "        0.94042553, 0.92765957, 0.88510638, 0.89787234, 0.92765957,\n",
              "        0.95319149, 0.94893617, 0.93191489, 0.91489362, 0.95319149,\n",
              "        1.03829787, 0.67659574, 0.        ],\n",
              "       [0.        , 0.        , 0.        , 0.        , 0.07659574,\n",
              "        0.18723404, 0.34893617, 0.45531915, 0.80425532, 0.97021277,\n",
              "        0.93617021, 0.94468085, 0.92340426, 0.96170213, 0.85106383,\n",
              "        0.87234043, 0.89787234, 0.9787234 , 0.95319149, 0.99574468,\n",
              "        0.74893617, 0.8       , 1.06382979, 1.05531915, 0.99148936,\n",
              "        1.01276596, 0.91489362, 0.        ],\n",
              "       [0.        , 0.24255319, 0.79574468, 0.88510638, 0.95319149,\n",
              "        0.94042553, 0.95319149, 0.88510638, 0.86808511, 0.9106383 ,\n",
              "        0.88510638, 0.8893617 , 0.85106383, 0.67659574, 1.04255319,\n",
              "        0.8212766 , 0.87659574, 0.94893617, 1.08510638, 1.08510638,\n",
              "        0.94042553, 0.99574468, 0.94042553, 0.89787234, 0.93617021,\n",
              "        0.98723404, 1.04680851, 0.        ],\n",
              "       [0.01276596, 0.85957447, 0.97021277, 0.95319149, 0.94042553,\n",
              "        0.89787234, 0.89787234, 0.9106383 , 0.87234043, 0.87234043,\n",
              "        0.87234043, 0.93617021, 1.0212766 , 0.34042553, 0.63829787,\n",
              "        1.08510638, 0.97446809, 0.94042553, 0.8       , 0.65531915,\n",
              "        0.81276596, 0.89361702, 0.86808511, 0.8893617 , 0.94468085,\n",
              "        0.97021277, 0.95744681, 0.        ],\n",
              "       [0.41702128, 0.99148936, 0.84255319, 0.89361702, 0.94468085,\n",
              "        0.97446809, 0.97446809, 0.99574468, 1.05957447, 0.93617021,\n",
              "        0.82553191, 0.91489362, 0.92340426, 1.02553191, 0.27659574,\n",
              "        0.3106383 , 0.45106383, 0.49787234, 0.71489362, 0.93191489,\n",
              "        0.94042553, 0.91489362, 0.92340426, 0.94893617, 0.94893617,\n",
              "        0.95319149, 0.97446809, 0.12340426],\n",
              "       [0.31914894, 0.86808511, 0.90212766, 0.86808511, 0.8212766 ,\n",
              "        0.87234043, 0.89787234, 0.95744681, 0.91914894, 0.78723404,\n",
              "        0.83829787, 0.87659574, 0.84255319, 0.90638298, 1.0212766 ,\n",
              "        0.82978723, 0.96595745, 1.04255319, 1.01702128, 0.94893617,\n",
              "        0.92765957, 0.90212766, 0.8893617 , 0.94468085, 0.93617021,\n",
              "        0.94042553, 0.9787234 , 0.28510638],\n",
              "       [0.20425532, 0.86382979, 0.7787234 , 0.82553191, 0.90638298,\n",
              "        0.83829787, 0.78723404, 0.80851064, 0.82553191, 0.81702128,\n",
              "        0.85957447, 0.9106383 , 0.93191489, 0.94042553, 0.93617021,\n",
              "        1.00425532, 0.95744681, 0.91914894, 0.84680851, 0.87659574,\n",
              "        0.79148936, 0.77021277, 0.75319149, 0.73191489, 0.77021277,\n",
              "        0.87234043, 0.87659574, 0.4893617 ],\n",
              "       [0.        , 0.51914894, 0.93191489, 0.8212766 , 0.76170213,\n",
              "        0.72765957, 0.7787234 , 0.83404255, 0.86808511, 0.89361702,\n",
              "        0.90638298, 0.88085106, 0.89787234, 0.89361702, 0.85106383,\n",
              "        0.83404255, 0.82553191, 0.81276596, 0.82978723, 0.81276596,\n",
              "        0.84255319, 0.81702128, 0.74893617, 0.66382979, 0.7106383 ,\n",
              "        0.75319149, 0.89361702, 0.39148936],\n",
              "       [0.        , 0.        , 0.31489362, 0.80425532, 0.90212766,\n",
              "        0.81276596, 0.74468085, 0.73191489, 0.74468085, 0.77021277,\n",
              "        0.78723404, 0.8       , 0.80425532, 0.8       , 0.8212766 ,\n",
              "        0.84255319, 0.86808511, 0.8893617 , 0.89361702, 0.89361702,\n",
              "        0.89787234, 0.8       , 0.8       , 0.82553191, 0.81702128,\n",
              "        0.91914894, 0.72340426, 0.        ],\n",
              "       [0.00851064, 0.        , 0.        , 0.        , 0.28085106,\n",
              "        0.85106383, 0.94468085, 1.00851064, 1.01702128, 1.02978723,\n",
              "        1.04680851, 1.03404255, 1.03829787, 0.94042553, 0.93617021,\n",
              "        0.8212766 , 0.81276596, 0.76170213, 0.77446809, 0.77446809,\n",
              "        0.77021277, 0.74893617, 0.70638298, 0.71489362, 0.4212766 ,\n",
              "        0.24680851, 0.        , 0.        ],\n",
              "       [0.        , 0.        , 0.        , 0.        , 0.        ,\n",
              "        0.        , 0.        , 0.17021277, 0.25957447, 0.18723404,\n",
              "        0.30638298, 0.17446809, 0.14893617, 0.        , 0.        ,\n",
              "        0.        , 0.        , 0.        , 0.        , 0.        ,\n",
              "        0.        , 0.        , 0.        , 0.        , 0.        ,\n",
              "        0.        , 0.        , 0.        ],\n",
              "       [0.        , 0.        , 0.        , 0.        , 0.        ,\n",
              "        0.        , 0.        , 0.        , 0.        , 0.        ,\n",
              "        0.        , 0.        , 0.        , 0.        , 0.        ,\n",
              "        0.        , 0.        , 0.        , 0.        , 0.        ,\n",
              "        0.        , 0.        , 0.        , 0.        , 0.        ,\n",
              "        0.        , 0.        , 0.        ],\n",
              "       [0.        , 0.        , 0.        , 0.        , 0.        ,\n",
              "        0.        , 0.        , 0.        , 0.        , 0.        ,\n",
              "        0.        , 0.        , 0.        , 0.        , 0.        ,\n",
              "        0.        , 0.        , 0.        , 0.        , 0.        ,\n",
              "        0.        , 0.        , 0.        , 0.        , 0.        ,\n",
              "        0.        , 0.        , 0.        ]])"
            ]
          },
          "metadata": {},
          "execution_count": 33
        }
      ]
    },
    {
      "cell_type": "code",
      "source": [
        "x_train.shape"
      ],
      "metadata": {
        "colab": {
          "base_uri": "https://localhost:8080/"
        },
        "id": "sevnVNZyVhDP",
        "outputId": "c917a241-3ec2-4a7b-a578-d7feb1630952"
      },
      "execution_count": 34,
      "outputs": [
        {
          "output_type": "execute_result",
          "data": {
            "text/plain": [
              "(60000, 28, 28)"
            ]
          },
          "metadata": {},
          "execution_count": 34
        }
      ]
    },
    {
      "cell_type": "code",
      "source": [],
      "metadata": {
        "id": "b4t2BsJOZFgF"
      },
      "execution_count": null,
      "outputs": []
    },
    {
      "cell_type": "code",
      "source": [
        "plt.matshow(x_test[1])"
      ],
      "metadata": {
        "colab": {
          "base_uri": "https://localhost:8080/",
          "height": 454
        },
        "id": "HjIxXjTWUnKK",
        "outputId": "967aa1c0-706e-49b7-93bb-54dae37927c4"
      },
      "execution_count": 45,
      "outputs": [
        {
          "output_type": "execute_result",
          "data": {
            "text/plain": [
              "<matplotlib.image.AxesImage at 0x7f69fe8105b0>"
            ]
          },
          "metadata": {},
          "execution_count": 45
        },
        {
          "output_type": "display_data",
          "data": {
            "text/plain": [
              "<Figure size 480x480 with 1 Axes>"
            ],
            "image/png": "[encoded data removed]"
          },
          "metadata": {}
        }
      ]
    },
    {
      "cell_type": "code",
      "source": [],
      "metadata": {
        "id": "0z_7cs8waavQ"
      },
      "execution_count": null,
      "outputs": []
    },
    {
      "cell_type": "code",
      "source": [
        "x_train_flattened=x_train.reshape(len(x_train),28*28)\n",
        "x_test_flattened=x_test.reshape(len(x_test),28*28)\n",
        "x_test_flattened\n",
        "\n"
      ],
      "metadata": {
        "colab": {
          "base_uri": "https://localhost:8080/"
        },
        "id": "dGKmLwKBVa-F",
        "outputId": "0482c04b-66c4-4e75-d989-c142f9c41751"
      },
      "execution_count": 36,
      "outputs": [
        {
          "output_type": "execute_result",
          "data": {
            "text/plain": [
              "array([[0., 0., 0., ..., 0., 0., 0.],\n",
              "       [0., 0., 0., ..., 0., 0., 0.],\n",
              "       [0., 0., 0., ..., 0., 0., 0.],\n",
              "       ...,\n",
              "       [0., 0., 0., ..., 0., 0., 0.],\n",
              "       [0., 0., 0., ..., 0., 0., 0.],\n",
              "       [0., 0., 0., ..., 0., 0., 0.]])"
            ]
          },
          "metadata": {},
          "execution_count": 36
        }
      ]
    },
    {
      "cell_type": "code",
      "source": [
        "x_test_flattened.shape"
      ],
      "metadata": {
        "colab": {
          "base_uri": "https://localhost:8080/"
        },
        "id": "FJEQJf8AWh3v",
        "outputId": "b8c40e06-7df8-4ab0-8dca-d4d7cf1d276b"
      },
      "execution_count": 37,
      "outputs": [
        {
          "output_type": "execute_result",
          "data": {
            "text/plain": [
              "(10000, 784)"
            ]
          },
          "metadata": {},
          "execution_count": 37
        }
      ]
    },
    {
      "cell_type": "code",
      "source": [
        "x_train_flattened[0]"
      ],
      "metadata": {
        "colab": {
          "base_uri": "https://localhost:8080/"
        },
        "id": "QHn7niBeWoCF",
        "outputId": "5c03e785-a408-4d8e-8014-87024942e77c"
      },
      "execution_count": 38,
      "outputs": [
        {
          "output_type": "execute_result",
          "data": {
            "text/plain": [
              "array([0.        , 0.        , 0.        , 0.        , 0.        ,\n",
              "       0.        , 0.        , 0.        , 0.        , 0.        ,\n",
              "       0.        , 0.        , 0.        , 0.        , 0.        ,\n",
              "       0.        , 0.        , 0.        , 0.        , 0.        ,\n",
              "       0.        , 0.        , 0.        , 0.        , 0.        ,\n",
              "       0.        , 0.        , 0.        , 0.        , 0.        ,\n",
              "       0.        , 0.        , 0.        , 0.        , 0.        ,\n",
              "       0.        , 0.        , 0.        , 0.        , 0.        ,\n",
              "       0.        , 0.        , 0.        , 0.        , 0.        ,\n",
              "       0.        , 0.        , 0.        , 0.        , 0.        ,\n",
              "       0.        , 0.        , 0.        , 0.        , 0.        ,\n",
              "       0.        , 0.        , 0.        , 0.        , 0.        ,\n",
              "       0.        , 0.        , 0.        , 0.        , 0.        ,\n",
              "       0.        , 0.        , 0.        , 0.        , 0.        ,\n",
              "       0.        , 0.        , 0.        , 0.        , 0.        ,\n",
              "       0.        , 0.        , 0.        , 0.        , 0.        ,\n",
              "       0.        , 0.        , 0.        , 0.        , 0.        ,\n",
              "       0.        , 0.        , 0.        , 0.        , 0.        ,\n",
              "       0.        , 0.        , 0.        , 0.        , 0.        ,\n",
              "       0.        , 0.00425532, 0.        , 0.        , 0.05531915,\n",
              "       0.3106383 , 0.        , 0.        , 0.00425532, 0.01702128,\n",
              "       0.        , 0.        , 0.        , 0.        , 0.00425532,\n",
              "       0.00425532, 0.        , 0.        , 0.        , 0.        ,\n",
              "       0.        , 0.        , 0.        , 0.        , 0.        ,\n",
              "       0.        , 0.        , 0.        , 0.        , 0.01276596,\n",
              "       0.        , 0.15319149, 0.5787234 , 0.54042553, 0.26382979,\n",
              "       0.22978723, 0.        , 0.        , 0.        , 0.00425532,\n",
              "       0.01276596, 0.01702128, 0.        , 0.        , 0.01276596,\n",
              "       0.        , 0.        , 0.        , 0.        , 0.        ,\n",
              "       0.        , 0.        , 0.        , 0.        , 0.        ,\n",
              "       0.        , 0.        , 0.02553191, 0.        , 0.43404255,\n",
              "       0.86808511, 0.74893617, 0.57021277, 0.61276596, 0.52340426,\n",
              "       0.09787234, 0.        , 0.        , 0.        , 0.        ,\n",
              "       0.05106383, 0.04255319, 0.        , 0.        , 0.        ,\n",
              "       0.        , 0.        , 0.        , 0.        , 0.        ,\n",
              "       0.        , 0.        , 0.        , 0.        , 0.        ,\n",
              "       0.        , 0.        , 0.65957447, 1.00425532, 0.88085106,\n",
              "       0.75744681, 0.45531915, 0.66382979, 0.68510638, 0.46382979,\n",
              "       0.27234043, 0.09787234, 0.32765957, 0.55319149, 0.30638298,\n",
              "       0.06382979, 0.        , 0.        , 0.        , 0.        ,\n",
              "       0.        , 0.        , 0.        , 0.        , 0.        ,\n",
              "       0.        , 0.        , 0.00425532, 0.        , 0.29361702,\n",
              "       0.88085106, 0.94893617, 0.92765957, 0.91914894, 0.91914894,\n",
              "       0.69361702, 0.54042553, 0.51489362, 0.51914894, 0.6212766 ,\n",
              "       0.6       , 0.37446809, 0.73191489, 0.28085106, 0.        ,\n",
              "       0.        , 0.        , 0.        , 0.        , 0.        ,\n",
              "       0.        , 0.        , 0.        , 0.00425532, 0.00425532,\n",
              "       0.00425532, 0.        , 0.85106383, 0.98723404, 0.98723404,\n",
              "       0.99148936, 0.97446809, 0.94893617, 0.94893617, 0.91489362,\n",
              "       0.90638298, 0.69787234, 0.54042553, 0.52340426, 0.83404255,\n",
              "       0.97446809, 0.        , 0.        , 0.        , 0.        ,\n",
              "       0.        , 0.        , 0.        , 0.        , 0.        ,\n",
              "       0.        , 0.        , 0.        , 0.        , 0.        ,\n",
              "       0.7787234 , 0.95744681, 0.91914894, 0.94893617, 0.97021277,\n",
              "       1.        , 0.96595745, 0.95319149, 0.94468085, 0.95319149,\n",
              "       0.94042553, 0.94893617, 1.04255319, 0.73617021, 0.        ,\n",
              "       0.        , 0.        , 0.        , 0.        , 0.        ,\n",
              "       0.        , 0.        , 0.        , 0.        , 0.        ,\n",
              "       0.        , 0.        , 0.        , 0.8212766 , 0.97021277,\n",
              "       0.92765957, 0.90638298, 0.84255319, 0.76595745, 0.90212766,\n",
              "       0.89361702, 0.89787234, 0.90638298, 0.94893617, 0.93617021,\n",
              "       1.03404255, 0.85957447, 0.        , 0.        , 0.        ,\n",
              "       0.        , 0.        , 0.        , 0.        , 0.        ,\n",
              "       0.        , 0.        , 0.00425532, 0.01276596, 0.        ,\n",
              "       0.05106383, 0.93191489, 0.93617021, 0.90212766, 0.92765957,\n",
              "       0.81702128, 0.71914894, 0.96595745, 0.88510638, 0.92765957,\n",
              "       0.95319149, 0.90212766, 0.96170213, 0.83829787, 0.8893617 ,\n",
              "       0.2212766 , 0.        , 0.        , 0.        , 0.        ,\n",
              "       0.        , 0.        , 0.        , 0.        , 0.        ,\n",
              "       0.        , 0.02553191, 0.        , 0.4212766 , 1.03829787,\n",
              "       0.94468085, 0.93617021, 0.92765957, 0.86382979, 0.84255319,\n",
              "       0.94042553, 0.91489362, 0.90638298, 0.94468085, 0.93617021,\n",
              "       1.04255319, 0.50638298, 0.7106383 , 0.23829787, 0.        ,\n",
              "       0.        , 0.        , 0.        , 0.        , 0.        ,\n",
              "       0.        , 0.        , 0.        , 0.01702128, 0.        ,\n",
              "       0.        , 0.23404255, 1.00425532, 0.97021277, 0.9787234 ,\n",
              "       0.97021277, 1.0212766 , 0.98723404, 0.90638298, 0.92765957,\n",
              "       0.94893617, 0.99574468, 0.92340426, 0.92340426, 0.8893617 ,\n",
              "       0.39148936, 0.        , 0.        , 0.        , 0.00425532,\n",
              "       0.01702128, 0.02553191, 0.02978723, 0.00851064, 0.        ,\n",
              "       0.        , 0.        , 0.        , 0.        , 1.00851064,\n",
              "       0.96170213, 0.92340426, 0.94893617, 0.94468085, 0.93191489,\n",
              "       0.94468085, 0.94042553, 0.91914894, 0.94893617, 0.97446809,\n",
              "       0.91489362, 0.92765957, 1.08510638, 0.32765957, 0.        ,\n",
              "       0.        , 0.01276596, 0.        , 0.        , 0.        ,\n",
              "       0.        , 0.        , 0.        , 0.        , 0.26382979,\n",
              "       0.61702128, 0.86808511, 0.97021277, 0.88085106, 0.90638298,\n",
              "       0.94042553, 0.92765957, 0.88510638, 0.89787234, 0.92765957,\n",
              "       0.95319149, 0.94893617, 0.93191489, 0.91489362, 0.95319149,\n",
              "       1.03829787, 0.67659574, 0.        , 0.        , 0.        ,\n",
              "       0.        , 0.        , 0.07659574, 0.18723404, 0.34893617,\n",
              "       0.45531915, 0.80425532, 0.97021277, 0.93617021, 0.94468085,\n",
              "       0.92340426, 0.96170213, 0.85106383, 0.87234043, 0.89787234,\n",
              "       0.9787234 , 0.95319149, 0.99574468, 0.74893617, 0.8       ,\n",
              "       1.06382979, 1.05531915, 0.99148936, 1.01276596, 0.91489362,\n",
              "       0.        , 0.        , 0.24255319, 0.79574468, 0.88510638,\n",
              "       0.95319149, 0.94042553, 0.95319149, 0.88510638, 0.86808511,\n",
              "       0.9106383 , 0.88510638, 0.8893617 , 0.85106383, 0.67659574,\n",
              "       1.04255319, 0.8212766 , 0.87659574, 0.94893617, 1.08510638,\n",
              "       1.08510638, 0.94042553, 0.99574468, 0.94042553, 0.89787234,\n",
              "       0.93617021, 0.98723404, 1.04680851, 0.        , 0.01276596,\n",
              "       0.85957447, 0.97021277, 0.95319149, 0.94042553, 0.89787234,\n",
              "       0.89787234, 0.9106383 , 0.87234043, 0.87234043, 0.87234043,\n",
              "       0.93617021, 1.0212766 , 0.34042553, 0.63829787, 1.08510638,\n",
              "       0.97446809, 0.94042553, 0.8       , 0.65531915, 0.81276596,\n",
              "       0.89361702, 0.86808511, 0.8893617 , 0.94468085, 0.97021277,\n",
              "       0.95744681, 0.        , 0.41702128, 0.99148936, 0.84255319,\n",
              "       0.89361702, 0.94468085, 0.97446809, 0.97446809, 0.99574468,\n",
              "       1.05957447, 0.93617021, 0.82553191, 0.91489362, 0.92340426,\n",
              "       1.02553191, 0.27659574, 0.3106383 , 0.45106383, 0.49787234,\n",
              "       0.71489362, 0.93191489, 0.94042553, 0.91489362, 0.92340426,\n",
              "       0.94893617, 0.94893617, 0.95319149, 0.97446809, 0.12340426,\n",
              "       0.31914894, 0.86808511, 0.90212766, 0.86808511, 0.8212766 ,\n",
              "       0.87234043, 0.89787234, 0.95744681, 0.91914894, 0.78723404,\n",
              "       0.83829787, 0.87659574, 0.84255319, 0.90638298, 1.0212766 ,\n",
              "       0.82978723, 0.96595745, 1.04255319, 1.01702128, 0.94893617,\n",
              "       0.92765957, 0.90212766, 0.8893617 , 0.94468085, 0.93617021,\n",
              "       0.94042553, 0.9787234 , 0.28510638, 0.20425532, 0.86382979,\n",
              "       0.7787234 , 0.82553191, 0.90638298, 0.83829787, 0.78723404,\n",
              "       0.80851064, 0.82553191, 0.81702128, 0.85957447, 0.9106383 ,\n",
              "       0.93191489, 0.94042553, 0.93617021, 1.00425532, 0.95744681,\n",
              "       0.91914894, 0.84680851, 0.87659574, 0.79148936, 0.77021277,\n",
              "       0.75319149, 0.73191489, 0.77021277, 0.87234043, 0.87659574,\n",
              "       0.4893617 , 0.        , 0.51914894, 0.93191489, 0.8212766 ,\n",
              "       0.76170213, 0.72765957, 0.7787234 , 0.83404255, 0.86808511,\n",
              "       0.89361702, 0.90638298, 0.88085106, 0.89787234, 0.89361702,\n",
              "       0.85106383, 0.83404255, 0.82553191, 0.81276596, 0.82978723,\n",
              "       0.81276596, 0.84255319, 0.81702128, 0.74893617, 0.66382979,\n",
              "       0.7106383 , 0.75319149, 0.89361702, 0.39148936, 0.        ,\n",
              "       0.        , 0.31489362, 0.80425532, 0.90212766, 0.81276596,\n",
              "       0.74468085, 0.73191489, 0.74468085, 0.77021277, 0.78723404,\n",
              "       0.8       , 0.80425532, 0.8       , 0.8212766 , 0.84255319,\n",
              "       0.86808511, 0.8893617 , 0.89361702, 0.89361702, 0.89787234,\n",
              "       0.8       , 0.8       , 0.82553191, 0.81702128, 0.91914894,\n",
              "       0.72340426, 0.        , 0.00851064, 0.        , 0.        ,\n",
              "       0.        , 0.28085106, 0.85106383, 0.94468085, 1.00851064,\n",
              "       1.01702128, 1.02978723, 1.04680851, 1.03404255, 1.03829787,\n",
              "       0.94042553, 0.93617021, 0.8212766 , 0.81276596, 0.76170213,\n",
              "       0.77446809, 0.77446809, 0.77021277, 0.74893617, 0.70638298,\n",
              "       0.71489362, 0.4212766 , 0.24680851, 0.        , 0.        ,\n",
              "       0.        , 0.        , 0.        , 0.        , 0.        ,\n",
              "       0.        , 0.        , 0.17021277, 0.25957447, 0.18723404,\n",
              "       0.30638298, 0.17446809, 0.14893617, 0.        , 0.        ,\n",
              "       0.        , 0.        , 0.        , 0.        , 0.        ,\n",
              "       0.        , 0.        , 0.        , 0.        , 0.        ,\n",
              "       0.        , 0.        , 0.        , 0.        , 0.        ,\n",
              "       0.        , 0.        , 0.        , 0.        , 0.        ,\n",
              "       0.        , 0.        , 0.        , 0.        , 0.        ,\n",
              "       0.        , 0.        , 0.        , 0.        , 0.        ,\n",
              "       0.        , 0.        , 0.        , 0.        , 0.        ,\n",
              "       0.        , 0.        , 0.        , 0.        , 0.        ,\n",
              "       0.        , 0.        , 0.        , 0.        , 0.        ,\n",
              "       0.        , 0.        , 0.        , 0.        , 0.        ,\n",
              "       0.        , 0.        , 0.        , 0.        , 0.        ,\n",
              "       0.        , 0.        , 0.        , 0.        , 0.        ,\n",
              "       0.        , 0.        , 0.        , 0.        , 0.        ,\n",
              "       0.        , 0.        , 0.        , 0.        ])"
            ]
          },
          "metadata": {},
          "execution_count": 38
        }
      ]
    },
    {
      "cell_type": "code",
      "source": [
        "model=keras.Sequential([\n",
        "    keras.layers.Dense(10,input_shape=(784,),activation='sigmoid')\n",
        "])\n",
        "model.compile(\n",
        "    optimizer='adam',\n",
        "    loss='sparse_categorical_crossentropy',\n",
        "    metrics=['accuracy']\n",
        ")\n",
        "model.fit(x_train_flattened,y_train,epochs=5)"
      ],
      "metadata": {
        "colab": {
          "base_uri": "https://localhost:8080/"
        },
        "id": "EHzEvxmpWuey",
        "outputId": "747e1900-b50d-477f-95e1-e3b29892ccbe"
      },
      "execution_count": 39,
      "outputs": [
        {
          "output_type": "stream",
          "name": "stderr",
          "text": [
            "/usr/local/lib/python3.10/dist-packages/keras/src/layers/core/dense.py:87: UserWarning: Do not pass an `input_shape`/`input_dim` argument to a layer. When using Sequential models, prefer using an `Input(shape)` object as the first layer in the model instead.\n",
            "  super().__init__(activity_regularizer=activity_regularizer, **kwargs)\n"
          ]
        },
        {
          "output_type": "stream",
          "name": "stdout",
          "text": [
            "Epoch 1/5\n",
            "\u001b[1m1875/1875\u001b[0m \u001b[32m━━━━━━━━━━━━━━━━━━━━\u001b[0m\u001b[37m\u001b[0m \u001b[1m3s\u001b[0m 1ms/step - accuracy: 0.7516 - loss: 0.7493\n",
            "Epoch 2/5\n",
            "\u001b[1m1875/1875\u001b[0m \u001b[32m━━━━━━━━━━━━━━━━━━━━\u001b[0m\u001b[37m\u001b[0m \u001b[1m6s\u001b[0m 2ms/step - accuracy: 0.8403 - loss: 0.4685\n",
            "Epoch 3/5\n",
            "\u001b[1m1875/1875\u001b[0m \u001b[32m━━━━━━━━━━━━━━━━━━━━\u001b[0m\u001b[37m\u001b[0m \u001b[1m3s\u001b[0m 1ms/step - accuracy: 0.8512 - loss: 0.4365\n",
            "Epoch 4/5\n",
            "\u001b[1m1875/1875\u001b[0m \u001b[32m━━━━━━━━━━━━━━━━━━━━\u001b[0m\u001b[37m\u001b[0m \u001b[1m5s\u001b[0m 1ms/step - accuracy: 0.8548 - loss: 0.4202\n",
            "Epoch 5/5\n",
            "\u001b[1m1875/1875\u001b[0m \u001b[32m━━━━━━━━━━━━━━━━━━━━\u001b[0m\u001b[37m\u001b[0m \u001b[1m5s\u001b[0m 1ms/step - accuracy: 0.8564 - loss: 0.4144\n"
          ]
        },
        {
          "output_type": "execute_result",
          "data": {
            "text/plain": [
              "<keras.src.callbacks.history.History at 0x7f69fe191e10>"
            ]
          },
          "metadata": {},
          "execution_count": 39
        }
      ]
    },
    {
      "cell_type": "code",
      "source": [
        "model.evaluate(x_test_flattened,y_test)"
      ],
      "metadata": {
        "colab": {
          "base_uri": "https://localhost:8080/"
        },
        "id": "bqm4chkZZGht",
        "outputId": "3292dbe2-4614-41c3-a554-060619a58704"
      },
      "execution_count": 40,
      "outputs": [
        {
          "output_type": "stream",
          "name": "stdout",
          "text": [
            "\u001b[1m313/313\u001b[0m \u001b[32m━━━━━━━━━━━━━━━━━━━━\u001b[0m\u001b[37m\u001b[0m \u001b[1m0s\u001b[0m 1ms/step - accuracy: 0.8491 - loss: 0.4383\n"
          ]
        },
        {
          "output_type": "execute_result",
          "data": {
            "text/plain": [
              "[0.4483901262283325, 0.8446999788284302]"
            ]
          },
          "metadata": {},
          "execution_count": 40
        }
      ]
    },
    {
      "cell_type": "code",
      "source": [
        "y_predict=model.predict(x_test_flattened)\n",
        "y_predict[5]"
      ],
      "metadata": {
        "colab": {
          "base_uri": "https://localhost:8080/"
        },
        "id": "udF-hQxhZt4Z",
        "outputId": "c328c303-d74d-4a13-bcf9-cd1dbf6138a3"
      },
      "execution_count": 52,
      "outputs": [
        {
          "output_type": "stream",
          "name": "stdout",
          "text": [
            "\u001b[1m313/313\u001b[0m \u001b[32m━━━━━━━━━━━━━━━━━━━━\u001b[0m\u001b[37m\u001b[0m \u001b[1m0s\u001b[0m 1ms/step\n"
          ]
        },
        {
          "output_type": "execute_result",
          "data": {
            "text/plain": [
              "array([8.4480900e-01, 9.9931061e-01, 4.0719229e-01, 3.2998013e-01,\n",
              "       7.2377121e-01, 7.0000256e-10, 5.9321389e-02, 2.9925680e-08,\n",
              "       7.2863880e-03, 1.0084373e-06], dtype=float32)"
            ]
          },
          "metadata": {},
          "execution_count": 52
        }
      ]
    },
    {
      "cell_type": "code",
      "source": [
        "plt.matshow(x_test[5])"
      ],
      "metadata": {
        "colab": {
          "base_uri": "https://localhost:8080/",
          "height": 454
        },
        "id": "Xky9AVmCa2TC",
        "outputId": "99a5ddce-0677-4079-967a-21152a6fb4df"
      },
      "execution_count": 53,
      "outputs": [
        {
          "output_type": "execute_result",
          "data": {
            "text/plain": [
              "<matplotlib.image.AxesImage at 0x7f69fe67e710>"
            ]
          },
          "metadata": {},
          "execution_count": 53
        },
        {
          "output_type": "display_data",
          "data": {
            "text/plain": [
              "<Figure size 480x480 with 1 Axes>"
            ],
            "image/png": "[encoded data removed]"
          },
          "metadata": {}
        }
      ]
    },
    {
      "cell_type": "code",
      "source": [
        "np.argmax(y_predict[5])"
      ],
      "metadata": {
        "colab": {
          "base_uri": "https://localhost:8080/"
        },
        "id": "VJhtCoYracCC",
        "outputId": "717a9886-0ad4-48f8-f1c2-8368b06f87d9"
      },
      "execution_count": 55,
      "outputs": [
        {
          "output_type": "execute_result",
          "data": {
            "text/plain": [
              "1"
            ]
          },
          "metadata": {},
          "execution_count": 55
        }
      ]
    },
    {
      "cell_type": "code",
      "source": [
        "tf.math.confusion_matrix(y_test,np.argmax(y_predict))"
      ],
      "metadata": {
        "id": "sOU3Bvw4bX6B"
      },
      "execution_count": null,
      "outputs": []
    },
    {
      "cell_type": "code",
      "source": [
        "y_test[:5]"
      ],
      "metadata": {
        "colab": {
          "base_uri": "https://localhost:8080/"
        },
        "id": "M_KaWk3bblQ1",
        "outputId": "285175f6-4fde-4589-f488-6317539b9d8e"
      },
      "execution_count": 56,
      "outputs": [
        {
          "output_type": "execute_result",
          "data": {
            "text/plain": [
              "array([9, 2, 1, 1, 6], dtype=uint8)"
            ]
          },
          "metadata": {},
          "execution_count": 56
        }
      ]
    },
    {
      "cell_type": "code",
      "source": [
        "y_predicted_labels=[ np.argmax(i) for i in y_predict]\n",
        "y_predicted_labels[:5]"
      ],
      "metadata": {
        "colab": {
          "base_uri": "https://localhost:8080/"
        },
        "id": "_bhUBTUTb550",
        "outputId": "e96cfb0d-fe9d-449d-d4bc-adc4e6d1cbf1"
      },
      "execution_count": 58,
      "outputs": [
        {
          "output_type": "execute_result",
          "data": {
            "text/plain": [
              "[9, 2, 1, 1, 6]"
            ]
          },
          "metadata": {},
          "execution_count": 58
        }
      ]
    },
    {
      "cell_type": "code",
      "source": [
        "cm=tf.math.confusion_matrix(labels=y_test,predictions=y_predicted_labels)\n",
        "cm"
      ],
      "metadata": {
        "colab": {
          "base_uri": "https://localhost:8080/"
        },
        "id": "_kLRuzz_crC2",
        "outputId": "ea7d520a-f834-47d6-9cd8-9cb793d7a50a"
      },
      "execution_count": 59,
      "outputs": [
        {
          "output_type": "execute_result",
          "data": {
            "text/plain": [
              "<tf.Tensor: shape=(10, 10), dtype=int32, numpy=\n",
              "array([[852,   4,  15,  36,   7,   0,  74,   0,  12,   0],\n",
              "       [  5, 953,   7,  27,   5,   0,   1,   0,   2,   0],\n",
              "       [ 23,   4, 778,   9, 118,   1,  63,   0,   4,   0],\n",
              "       [ 43,  12,  16, 847,  28,   0,  50,   0,   4,   0],\n",
              "       [  0,   2, 142,  39, 740,   0,  72,   0,   5,   0],\n",
              "       [  0,   0,   0,   1,   0, 925,   0,  56,   2,  16],\n",
              "       [175,   2, 154,  25, 100,   0, 527,   0,  17,   0],\n",
              "       [  0,   0,   0,   0,   0,  28,   0, 949,   0,  23],\n",
              "       [  3,   1,   9,  10,   4,   9,  15,   6, 943,   0],\n",
              "       [  0,   0,   0,   0,   0,  19,   0,  47,   1, 933]], dtype=int32)>"
            ]
          },
          "metadata": {},
          "execution_count": 59
        }
      ]
    },
    {
      "cell_type": "code",
      "source": [
        "import seaborn as sn\n",
        "plt.figure(figsize=(10,10))\n",
        "sn.heatmap(cm,annot=True,fmt='d')\n",
        "plt.xlabel('Predicted')\n",
        "plt.ylabel('Truth')"
      ],
      "metadata": {
        "colab": {
          "base_uri": "https://localhost:8080/",
          "height": 693
        },
        "id": "sYyxgN29dR_O",
        "outputId": "afbabd4d-9e70-4610-e33c-5199e69859e3"
      },
      "execution_count": 60,
      "outputs": [
        {
          "output_type": "execute_result",
          "data": {
            "text/plain": [
              "Text(95.72222222222221, 0.5, 'Truth')"
            ]
          },
          "metadata": {},
          "execution_count": 60
        },
        {
          "output_type": "display_data",
          "data": {
            "text/plain": [
              "<Figure size 1000x1000 with 2 Axes>"
            ],
            "image/png": "[encoded data removed]"
          },
          "metadata": {}
        }
      ]
    },
    {
      "cell_type": "code",
      "source": [],
      "metadata": {
        "id": "7zC9Gu1IgAHH"
      },
      "execution_count": null,
      "outputs": []
    },
    {
      "cell_type": "code",
      "source": [
        "model=keras.Sequential([\n",
        "    keras.layers.Dense(100,input_shape=(784,),activation='sigmoid'),\n",
        "    keras.layers.Dense(10,activation='sigmoid')\n",
        "])\n",
        "model.compile(\n",
        "    optimizer='adam',\n",
        "    loss='sparse_categorical_crossentropy',\n",
        "    metrics=['accuracy']\n",
        ")\n",
        "model.fit(x_train_flattened,y_train,epochs=5)"
      ],
      "metadata": {
        "colab": {
          "base_uri": "https://localhost:8080/"
        },
        "id": "bwvaNzlBeaCS",
        "outputId": "a21bc431-0783-49f3-c9d5-1d819ea71474"
      },
      "execution_count": 61,
      "outputs": [
        {
          "output_type": "stream",
          "name": "stderr",
          "text": [
            "/usr/local/lib/python3.10/dist-packages/keras/src/layers/core/dense.py:87: UserWarning: Do not pass an `input_shape`/`input_dim` argument to a layer. When using Sequential models, prefer using an `Input(shape)` object as the first layer in the model instead.\n",
            "  super().__init__(activity_regularizer=activity_regularizer, **kwargs)\n"
          ]
        },
        {
          "output_type": "stream",
          "name": "stdout",
          "text": [
            "Epoch 1/5\n",
            "\u001b[1m1875/1875\u001b[0m \u001b[32m━━━━━━━━━━━━━━━━━━━━\u001b[0m\u001b[37m\u001b[0m \u001b[1m7s\u001b[0m 4ms/step - accuracy: 0.7584 - loss: 0.7507\n",
            "Epoch 2/5\n",
            "\u001b[1m1875/1875\u001b[0m \u001b[32m━━━━━━━━━━━━━━━━━━━━\u001b[0m\u001b[37m\u001b[0m \u001b[1m5s\u001b[0m 3ms/step - accuracy: 0.8544 - loss: 0.4052\n",
            "Epoch 3/5\n",
            "\u001b[1m1875/1875\u001b[0m \u001b[32m━━━━━━━━━━━━━━━━━━━━\u001b[0m\u001b[37m\u001b[0m \u001b[1m6s\u001b[0m 3ms/step - accuracy: 0.8726 - loss: 0.3551\n",
            "Epoch 4/5\n",
            "\u001b[1m1875/1875\u001b[0m \u001b[32m━━━━━━━━━━━━━━━━━━━━\u001b[0m\u001b[37m\u001b[0m \u001b[1m6s\u001b[0m 3ms/step - accuracy: 0.8794 - loss: 0.3332\n",
            "Epoch 5/5\n",
            "\u001b[1m1875/1875\u001b[0m \u001b[32m━━━━━━━━━━━━━━━━━━━━\u001b[0m\u001b[37m\u001b[0m \u001b[1m12s\u001b[0m 4ms/step - accuracy: 0.8853 - loss: 0.3150\n"
          ]
        },
        {
          "output_type": "execute_result",
          "data": {
            "text/plain": [
              "<keras.src.callbacks.history.History at 0x7f69ba4e5540>"
            ]
          },
          "metadata": {},
          "execution_count": 61
        }
      ]
    },
    {
      "cell_type": "code",
      "source": [],
      "metadata": {
        "id": "Qw0tr38mgvuE"
      },
      "execution_count": null,
      "outputs": []
    },
    {
      "cell_type": "code",
      "source": [
        "model.evaluate(x_test_flattened,y_test)"
      ],
      "metadata": {
        "colab": {
          "base_uri": "https://localhost:8080/"
        },
        "id": "v8s5wBMWfqIc",
        "outputId": "32bc4bca-bd3e-4aad-8a51-d053084f7c39"
      },
      "execution_count": 62,
      "outputs": [
        {
          "output_type": "stream",
          "name": "stdout",
          "text": [
            "\u001b[1m313/313\u001b[0m \u001b[32m━━━━━━━━━━━━━━━━━━━━\u001b[0m\u001b[37m\u001b[0m \u001b[1m1s\u001b[0m 2ms/step - accuracy: 0.8660 - loss: 0.3653\n"
          ]
        },
        {
          "output_type": "execute_result",
          "data": {
            "text/plain": [
              "[0.36707183718681335, 0.8644000291824341]"
            ]
          },
          "metadata": {},
          "execution_count": 62
        }
      ]
    },
    {
      "cell_type": "code",
      "source": [
        "import seaborn as sn\n",
        "plt.figure(figsize=(10,10))\n",
        "sn.heatmap(cm,annot=True,fmt='d')\n",
        "plt.xlabel('Predicted')\n",
        "plt.ylabel('Truth')"
      ],
      "metadata": {
        "colab": {
          "base_uri": "https://localhost:8080/",
          "height": 693
        },
        "id": "quhn-i4GgA6V",
        "outputId": "c92d0701-7aa2-471d-9192-634a4ab6fb19"
      },
      "execution_count": 63,
      "outputs": [
        {
          "output_type": "execute_result",
          "data": {
            "text/plain": [
              "Text(95.72222222222221, 0.5, 'Truth')"
            ]
          },
          "metadata": {},
          "execution_count": 63
        },
        {
          "output_type": "display_data",
          "data": {
            "text/plain": [
              "<Figure size 1000x1000 with 2 Axes>"
            ],
            "image/png": "[encoded data removed]"
          },
          "metadata": {}
        }
      ]
    },
    {
      "cell_type": "code",
      "source": [
        "model=keras.Sequential([\n",
        "    keras.layers.Flatten(input_shape=(28,28)),\n",
        "    keras.layers.Dense(100,input_shape=(784,),activation='sigmoid'),\n",
        "    keras.layers.Dense(10,activation='sigmoid')\n",
        "])\n",
        "model.compile(\n",
        "    optimizer='adam',\n",
        "    loss='sparse_categorical_crossentropy',\n",
        "    metrics=['accuracy']\n",
        ")\n",
        "model.fit(x_train,y_train,epochs=5)"
      ],
      "metadata": {
        "colab": {
          "base_uri": "https://localhost:8080/"
        },
        "id": "3IdjcWRngwya",
        "outputId": "79b1267a-61b6-4775-b01d-06d0426650b5"
      },
      "execution_count": 66,
      "outputs": [
        {
          "output_type": "stream",
          "name": "stderr",
          "text": [
            "/usr/local/lib/python3.10/dist-packages/keras/src/layers/reshaping/flatten.py:37: UserWarning: Do not pass an `input_shape`/`input_dim` argument to a layer. When using Sequential models, prefer using an `Input(shape)` object as the first layer in the model instead.\n",
            "  super().__init__(**kwargs)\n",
            "/usr/local/lib/python3.10/dist-packages/keras/src/layers/core/dense.py:87: UserWarning: Do not pass an `input_shape`/`input_dim` argument to a layer. When using Sequential models, prefer using an `Input(shape)` object as the first layer in the model instead.\n",
            "  super().__init__(activity_regularizer=activity_regularizer, **kwargs)\n"
          ]
        },
        {
          "output_type": "stream",
          "name": "stdout",
          "text": [
            "Epoch 1/5\n",
            "\u001b[1m1875/1875\u001b[0m \u001b[32m━━━━━━━━━━━━━━━━━━━━\u001b[0m\u001b[37m\u001b[0m \u001b[1m10s\u001b[0m 4ms/step - accuracy: 0.7565 - loss: 0.7573\n",
            "Epoch 2/5\n",
            "\u001b[1m1875/1875\u001b[0m \u001b[32m━━━━━━━━━━━━━━━━━━━━\u001b[0m\u001b[37m\u001b[0m \u001b[1m6s\u001b[0m 3ms/step - accuracy: 0.8560 - loss: 0.4029\n",
            "Epoch 3/5\n",
            "\u001b[1m1875/1875\u001b[0m \u001b[32m━━━━━━━━━━━━━━━━━━━━\u001b[0m\u001b[37m\u001b[0m \u001b[1m10s\u001b[0m 3ms/step - accuracy: 0.8670 - loss: 0.3668\n",
            "Epoch 4/5\n",
            "\u001b[1m1875/1875\u001b[0m \u001b[32m━━━━━━━━━━━━━━━━━━━━\u001b[0m\u001b[37m\u001b[0m \u001b[1m10s\u001b[0m 3ms/step - accuracy: 0.8782 - loss: 0.3355\n",
            "Epoch 5/5\n",
            "\u001b[1m1875/1875\u001b[0m \u001b[32m━━━━━━━━━━━━━━━━━━━━\u001b[0m\u001b[37m\u001b[0m \u001b[1m6s\u001b[0m 3ms/step - accuracy: 0.8854 - loss: 0.3178\n"
          ]
        },
        {
          "output_type": "execute_result",
          "data": {
            "text/plain": [
              "<keras.src.callbacks.history.History at 0x7f69b9a4f160>"
            ]
          },
          "metadata": {},
          "execution_count": 66
        }
      ]
    }
  ]
}